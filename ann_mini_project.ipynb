{
  "nbformat": 4,
  "nbformat_minor": 0,
  "metadata": {
    "colab": {
      "name": "ann_mini_project.ipynb",
      "provenance": [],
      "collapsed_sections": []
    },
    "kernelspec": {
      "name": "python3",
      "display_name": "Python 3"
    }
  },
  "cells": [
    {
      "cell_type": "markdown",
      "metadata": {
        "id": "AIXtHQWwlneu"
      },
      "source": [
        "# **Artificial Neural Network Mini Project**\n",
        "- Neural Network with Backpropagation (MLP-BP) vs Neural Network with ELM (ELM)\n",
        " - BP Neural Network (tanh-sigmoid)\n",
        " - BR Neural Network (sigmoid-sidmoid)\n",
        " - Extream Learning Machine Neural Network\n",
        "- Classification in Iris dataset (from [Scikit Learn Library](https://scikit-learn.org/stable/auto_examples/datasets/plot_iris_dataset.html))\n",
        "- Implement with Numpy, Matplotlib, Pandas\n",
        " - Model\n",
        "   - **Numpy** for model construction\n",
        " - Visualization\n",
        "   - **Matplotlib** for graph visualization\n",
        "   - **Pandas** for table visualization\n",
        "- 30 runs in MLP-BP\n",
        "- Compare final MSE in MLP-BP and ELM\n",
        " - Accuaracy for Correctness measurement\n",
        " - Mean Square Error (MSE) for Error measurement\n",
        "- Techniques\n",
        " - map data to range \\[0, 1\\]"
      ]
    },
    {
      "cell_type": "code",
      "metadata": {
        "id": "6D5g3txvlfir"
      },
      "source": [
        "# Compare ELM MSE and final Backpropagation MSE.\n",
        "# Find Accuracy MLP-BP/ ELP.\n",
        "# Compare Accuracy MLP-BP/ ELP.\n",
        "\n",
        "import numpy as np\n",
        "import numpy.matlib as matlib\n",
        "\n",
        "from sklearn import datasets\n",
        "from sklearn.preprocessing import MinMaxScaler\n",
        "\n",
        "import pandas as pd\n",
        "\n",
        "from matplotlib import pyplot as plt\n",
        "%matplotlib inline\n",
        "\n",
        "\n",
        "# import iris data\n",
        "# dataset is also be an numpy array object.\n",
        "iris = datasets.load_iris()\n",
        "x_train = iris.data\n",
        "y_train = iris.target\n",
        "\n",
        "scaler = MinMaxScaler(feature_range=(0, 1))\n",
        "x_train = scaler.fit_transform(x_train)\n",
        "y_train_onehot = np.eye(np.max(y_train) + 1)[y_train]\n",
        "\n",
        "# data description\n",
        "data_size = np.size(x_train, axis=0)\n",
        "data_feature_size = np.size(x_train, axis=1)\n",
        "target_feature_size = np.size(y_train_onehot, axis=1)\n",
        "\n",
        "# swap data\n",
        "swap_idx = np.random.permutation(data_size)\n",
        "x_train = x_train[swap_idx]\n",
        "y_train = y_train[swap_idx]\n",
        "y_train_onehot = y_train_onehot[swap_idx]"
      ],
      "execution_count": null,
      "outputs": []
    },
    {
      "cell_type": "code",
      "metadata": {
        "id": "sx5I2DAISHGY"
      },
      "source": [
        "# Activation Function\n",
        "def sigmoid(x):\n",
        "  return 1/(1 + np.exp(-x))\n",
        "\n",
        "def mse(A, B):\n",
        "  return (np.square(np.sum(A - B, axis=1))).mean(axis=0)"
      ],
      "execution_count": null,
      "outputs": []
    },
    {
      "cell_type": "code",
      "metadata": {
        "id": "jSxg1n5WoDYe"
      },
      "source": [
        "# Build neural network\n",
        "# Build neural network\n",
        "def mlp_sigmoid(n=0.01, hidden_node_size=10, max_iter = 500):\n",
        "  # model structure.\n",
        "  wi = np.random.rand(data_feature_size, hidden_node_size)\n",
        "  bi = np.random.rand(1, hidden_node_size)\n",
        "  wo = np.random.rand(hidden_node_size, target_feature_size)\n",
        "  bo = np.random.rand(1, target_feature_size)\n",
        "\n",
        "  mse_temp = np.zeros(max_iter)\n",
        "  acc_temp = np.zeros(max_iter)\n",
        "\n",
        "  # Training model with backpropagation learning rule.\n",
        "  for iter in range(max_iter):\n",
        "    for data_idx in range(data_size):\n",
        "      data_point = x_train[data_idx, :].reshape(1, -1)\n",
        "      \n",
        "      h = sigmoid(data_point @ wi + bi)\n",
        "      y = sigmoid(h @ wo + bo)\n",
        "\n",
        "      e = y_train_onehot[data_idx, :].reshape(1, -1) - y\n",
        "\n",
        "      dy = e * y * (1-y)\n",
        "      dh = h * (1-h) * (dy @ wo.T)\n",
        "\n",
        "      wo = wo + n * h.T @ dy\n",
        "      bo = bo + n * dy\n",
        "      wi = wi + n * data_point.T @ dh\n",
        "      bi = bi + n * dh\n",
        "\n",
        "    # Evaluate in each iteration\n",
        "    h = sigmoid(x_train @ wi + matlib.repmat(bi, data_size, 1))\n",
        "    y = sigmoid(h @ wo + matlib.repmat(bo, data_size, 1))\n",
        "\n",
        "    predict = np.argmax(y, axis=1).reshape(1, -1)\n",
        "    acc = (y_train == predict).sum() / data_size\n",
        "\n",
        "    mse_temp[iter] = mse(y_train_onehot, y)\n",
        "    acc_temp[iter] = acc\n",
        "    \n",
        "  return mse_temp, acc_temp"
      ],
      "execution_count": null,
      "outputs": []
    },
    {
      "cell_type": "code",
      "metadata": {
        "id": "ld8pZF3kYIxs"
      },
      "source": [
        "# Build neural network\n",
        "def mlp_tanh(n=0.01, hidden_node_size=10, max_iter = 500):\n",
        "  # model structure.\n",
        "  wi = np.random.rand(data_feature_size, hidden_node_size)\n",
        "  bi = np.random.rand(1, hidden_node_size)\n",
        "  wo = np.random.rand(hidden_node_size, target_feature_size)\n",
        "  bo = np.random.rand(1, target_feature_size)\n",
        "\n",
        "  mse_temp = np.zeros(max_iter)\n",
        "  acc_temp = np.zeros(max_iter)\n",
        "\n",
        "  # Training model with backpropagation learning rule.\n",
        "  for iter in range(max_iter):\n",
        "    for data_idx in range(data_size):\n",
        "      data_point = x_train[data_idx, :].reshape(1, -1)\n",
        "      \n",
        "      h = np.tanh(data_point @ wi + bi)\n",
        "      y = sigmoid(h @ wo + bo)\n",
        "\n",
        "      e = y_train_onehot[data_idx, :].reshape(1, -1) - y\n",
        "\n",
        "      dy = e * y * (1-y)\n",
        "      dh = (1-h**2) * (dy @ wo.T)\n",
        "\n",
        "      wo = wo + n * h.T @ dy\n",
        "      bo = bo + n * dy\n",
        "      wi = wi + n * data_point.T @ dh\n",
        "      bi = bi + n * dh\n",
        "\n",
        "    # Evaluate in each iteration\n",
        "    h = np.tanh(x_train @ wi + matlib.repmat(bi, data_size, 1))\n",
        "    y = sigmoid(h @ wo + matlib.repmat(bo, data_size, 1))\n",
        "\n",
        "    predict = np.argmax(y, axis=1).reshape(1, -1)\n",
        "    acc = (y_train == predict).sum() / data_size\n",
        "\n",
        "    mse_temp[iter] = mse(y_train_onehot, y)\n",
        "    acc_temp[iter] = acc\n",
        "    \n",
        "  return mse_temp, acc_temp"
      ],
      "execution_count": null,
      "outputs": []
    },
    {
      "cell_type": "code",
      "metadata": {
        "id": "t2qbf67tTYTH"
      },
      "source": [
        "# run MLP 30 runs\n",
        "runs = 30\n",
        "max_iter = 500;\n",
        "mse_tanh001_temp = np.zeros((runs, max_iter))\n",
        "mse_sigmoid001_temp = np.zeros((runs, max_iter))\n",
        "acc_tanh001_temp = np.zeros((runs, max_iter))\n",
        "acc_sigmoid001_temp = np.zeros((runs, max_iter))\n",
        "\n",
        "mse_tanh01_temp = np.zeros((runs, max_iter))\n",
        "mse_sigmoid01_temp = np.zeros((runs, max_iter))\n",
        "acc_tanh01_temp = np.zeros((runs, max_iter))\n",
        "acc_sigmoid01_temp = np.zeros((runs, max_iter))\n",
        "\n",
        "mse_tanh1_temp = np.zeros((runs, max_iter))\n",
        "mse_sigmoid1_temp = np.zeros((runs, max_iter))\n",
        "acc_tanh1_temp = np.zeros((runs, max_iter))\n",
        "acc_sigmoid1_temp = np.zeros((runs, max_iter))\n",
        "\n",
        "for run_idx in range(runs):\n",
        "  mse_tanh001_temp[run_idx, :], acc_tanh001_temp[run_idx, :] = mlp_tanh(n=0.001, max_iter=max_iter)\n",
        "  mse_sigmoid001_temp[run_idx, :], acc_sigmoid001_temp[run_idx, :] = mlp_sigmoid(n=0.001, max_iter=max_iter)\n",
        "\n",
        "  mse_tanh01_temp[run_idx, :], acc_tanh01_temp[run_idx, :] = mlp_tanh(n=0.01, max_iter=max_iter)\n",
        "  mse_sigmoid01_temp[run_idx, :], acc_sigmoid01_temp[run_idx, :] = mlp_sigmoid(n=0.01, max_iter=max_iter)\n",
        "\n",
        "  mse_tanh1_temp[run_idx, :], acc_tanh1_temp[run_idx, :] = mlp_tanh(n=0.1, max_iter=max_iter)\n",
        "  mse_sigmoid1_temp[run_idx, :], acc_sigmoid1_temp[run_idx, :] = mlp_sigmoid(n=0.1, max_iter=max_iter)\n"
      ],
      "execution_count": null,
      "outputs": []
    },
    {
      "cell_type": "code",
      "metadata": {
        "id": "h3LDdM5BCbFK",
        "outputId": "0c3ed60e-c823-4872-fdbf-11a3f5a3905c",
        "colab": {
          "base_uri": "https://localhost:8080/",
          "height": 298
        }
      },
      "source": [
        "# Plot MSE\n",
        "\n",
        "mse_tanh001_mean = np.mean(mse_tanh001_temp, axis=0)\n",
        "mse_sigmoid001_mean = np.mean(mse_sigmoid001_temp, axis=0)\n",
        "\n",
        "mse_tanh01_mean = np.mean(mse_tanh01_temp, axis=0)\n",
        "mse_sigmoid01_mean = np.mean(mse_sigmoid01_temp, axis=0)\n",
        "\n",
        "mse_tanh1_mean = np.mean(mse_tanh1_temp, axis=0)\n",
        "mse_sigmoid1_mean = np.mean(mse_sigmoid1_temp, axis=0)\n",
        "\n",
        "x = np.arange(max_iter)\n",
        "\n",
        "plt.plot(x, mse_tanh001_mean, label=\"tanh001\")\n",
        "plt.plot(x, mse_sigmoid001_mean, label=\"sigmoid001\")\n",
        "\n",
        "plt.plot(x, mse_tanh01_mean, label=\"tanh01\")\n",
        "plt.plot(x, mse_sigmoid01_mean, label=\"sigmoid01\")\n",
        "\n",
        "plt.plot(x, mse_tanh1_mean, label=\"tanh1\")\n",
        "plt.plot(x, mse_sigmoid1_mean, label=\"sigmoid1\")\n",
        "\n",
        "plt.title('mean MSE')\n",
        "plt.grid(True)\n",
        "plt.legend()"
      ],
      "execution_count": null,
      "outputs": [
        {
          "output_type": "execute_result",
          "data": {
            "text/plain": [
              "<matplotlib.legend.Legend at 0x7f27e944c128>"
            ]
          },
          "metadata": {
            "tags": []
          },
          "execution_count": 6
        },
        {
          "output_type": "display_data",
          "data": {
            "image/png": "[encoded data removed]",
            "text/plain": [
              "<Figure size 432x288 with 1 Axes>"
            ]
          },
          "metadata": {
            "tags": [],
            "needs_background": "light"
          }
        }
      ]
    },
    {
      "cell_type": "code",
      "metadata": {
        "id": "4e4ajD8n6ZeI",
        "outputId": "0ee6c7bf-a63c-4d24-bdfb-5d4a00d93de6",
        "colab": {
          "base_uri": "https://localhost:8080/",
          "height": 298
        }
      },
      "source": [
        "# Plot mean acc\n",
        "\n",
        "acc_tanh001_mean = np.mean(acc_tanh001_temp, axis=0)\n",
        "acc_sigmoid001_mean = np.mean(acc_sigmoid001_temp, axis=0)\n",
        "\n",
        "acc_tanh01_mean = np.mean(acc_tanh01_temp, axis=0)\n",
        "acc_sigmoid01_mean = np.mean(acc_sigmoid01_temp, axis=0)\n",
        "\n",
        "acc_tanh1_mean = np.mean(acc_tanh1_temp, axis=0)\n",
        "acc_sigmoid1_mean = np.mean(acc_sigmoid1_temp, axis=0)\n",
        "\n",
        "plt.plot(x, acc_tanh001_mean, label=\"tanh001\")\n",
        "plt.plot(x, acc_tanh01_mean, label=\"tanh01\")\n",
        "plt.plot(x, acc_tanh1_mean, label=\"tanh1\")\n",
        "\n",
        "plt.plot(x, acc_sigmoid001_mean, label=\"sigmoid001\")\n",
        "plt.plot(x, acc_sigmoid01_mean, label=\"sigmoid01\")\n",
        "plt.plot(x, acc_sigmoid1_mean, label=\"sigmoid1\")\n",
        "\n",
        "plt.title('mean ACC')\n",
        "plt.grid(True)\n",
        "plt.legend()"
      ],
      "execution_count": null,
      "outputs": [
        {
          "output_type": "execute_result",
          "data": {
            "text/plain": [
              "<matplotlib.legend.Legend at 0x7f27e8f31438>"
            ]
          },
          "metadata": {
            "tags": []
          },
          "execution_count": 7
        },
        {
          "output_type": "display_data",
          "data": {
            "image/png": "[encoded data removed]",
            "text/plain": [
              "<Figure size 432x288 with 1 Axes>"
            ]
          },
          "metadata": {
            "tags": [],
            "needs_background": "light"
          }
        }
      ]
    },
    {
      "cell_type": "code",
      "metadata": {
        "id": "YBE-3oG5j06f"
      },
      "source": [
        "# ELM-Sigmoid\n",
        "# model params\n",
        "def elm_sigmoid(hidden_node_size=10):\n",
        "  # Initialization model & Training\n",
        "  # hidden layer weight\n",
        "  elm_hidden_w = wi = np.random.rand(data_feature_size, hidden_node_size)\n",
        "  elm_hidden_bias_w = np.random.rand(1, hidden_node_size)\n",
        "\n",
        "  # output layer weight\n",
        "  elm_output_w = np.dot(np.linalg.pinv(sigmoid(x_train @ elm_hidden_w + matlib.repmat(elm_hidden_bias_w, data_size, 1))), y_train_onehot)\n",
        "\n",
        "  # Evaluation model\n",
        "  predict = np.argmax(np.dot(sigmoid(x_train @ elm_hidden_w + matlib.repmat(elm_hidden_bias_w, data_size, 1)) , elm_output_w), axis=1)\n",
        "  mse_val = mse(y_train_onehot, np.dot(sigmoid(x_train @ elm_hidden_w + matlib.repmat(elm_hidden_bias_w, data_size, 1)) , elm_output_w))\n",
        "\n",
        "  acc_val = (y_train == predict).sum() / data_size\n",
        "\n",
        "  return mse_val, acc_val"
      ],
      "execution_count": null,
      "outputs": []
    },
    {
      "cell_type": "code",
      "metadata": {
        "id": "Nu1PZBKgSFT3"
      },
      "source": [
        "# ELM-TanH\n",
        "# model params\n",
        "def elm_tanh(hidden_node_size=10):\n",
        "  # Initialization model & Training\n",
        "  # hidden layer weight\n",
        "  elm_hidden_w = wi = np.random.rand(data_feature_size, hidden_node_size)\n",
        "  elm_hidden_bias_w = np.random.rand(1, hidden_node_size)\n",
        "\n",
        "  # output layer weight\n",
        "  elm_output_w = np.dot(np.linalg.pinv(np.tanh(x_train @ elm_hidden_w + matlib.repmat(elm_hidden_bias_w, data_size, 1))), y_train_onehot)\n",
        "\n",
        "  # Evaluation model\n",
        "  predict = np.argmax(np.dot(np.tanh(x_train @ elm_hidden_w + matlib.repmat(elm_hidden_bias_w, data_size, 1)) , elm_output_w), axis=1)\n",
        "  mse_val = mse(y_train_onehot, np.dot(np.tanh(x_train @ elm_hidden_w + matlib.repmat(elm_hidden_bias_w, data_size, 1)) , elm_output_w))\n",
        "\n",
        "  acc_val = (y_train == predict).sum() / data_size\n",
        "\n",
        "  return mse_val, acc_val"
      ],
      "execution_count": null,
      "outputs": []
    },
    {
      "cell_type": "code",
      "metadata": {
        "id": "wIfyMg9ubJZv"
      },
      "source": [
        "acc_elm_tanh_temp = np.zeros((runs,1))\n",
        "acc_elm_sigmoid_temp = np.zeros((runs, 1))\n",
        "\n",
        "mse_elm_tanh_temp = np.zeros((runs,1))\n",
        "mse_elm_sigmoid_temp = np.zeros((runs, 1))\n",
        "\n",
        "for run_idx in range(runs):\n",
        "  mse_elm_sigmoid_temp[run_idx], acc_elm_sigmoid_temp[run_idx] = elm_sigmoid()\n",
        "  mse_elm_tanh_temp[run_idx], acc_elm_tanh_temp[run_idx] = elm_tanh()"
      ],
      "execution_count": null,
      "outputs": []
    },
    {
      "cell_type": "code",
      "metadata": {
        "id": "cJLZZtiobNZM",
        "outputId": "4fe83505-22e1-4e05-f2f0-61713bed6f0a",
        "colab": {
          "base_uri": "https://localhost:8080/",
          "height": 94
        }
      },
      "source": [
        "# Find MSE means\n",
        "mse_elm_sigmoid_mean = np.mean(mse_elm_sigmoid_temp, axis=0)\n",
        "mse_elm_tanh_mean = np.mean(mse_elm_tanh_temp, axis=0)\n",
        "\n",
        "mse_elm = pd.DataFrame(np.array([\n",
        "                                  [mse_elm_sigmoid_mean[0], mse_elm_tanh_mean[0]]\n",
        "                                ]),\n",
        "                          columns= ['mse_elm_sidmoid', 'mse_elm_tanh']\n",
        "                          )\n",
        "\n",
        "print('Accuracy of ELM')\n",
        "mse_elm"
      ],
      "execution_count": null,
      "outputs": [
        {
          "output_type": "stream",
          "text": [
            "Accuracy of ELM\n"
          ],
          "name": "stdout"
        },
        {
          "output_type": "execute_result",
          "data": {
            "text/html": [
              "<div>\n",
              "<style scoped>\n",
              "    .dataframe tbody tr th:only-of-type {\n",
              "        vertical-align: middle;\n",
              "    }\n",
              "\n",
              "    .dataframe tbody tr th {\n",
              "        vertical-align: top;\n",
              "    }\n",
              "\n",
              "    .dataframe thead th {\n",
              "        text-align: right;\n",
              "    }\n",
              "</style>\n",
              "<table border=\"1\" class=\"dataframe\">\n",
              "  <thead>\n",
              "    <tr style=\"text-align: right;\">\n",
              "      <th></th>\n",
              "      <th>mse_elm_sidmoid</th>\n",
              "      <th>mse_elm_tanh</th>\n",
              "    </tr>\n",
              "  </thead>\n",
              "  <tbody>\n",
              "    <tr>\n",
              "      <th>0</th>\n",
              "      <td>8.282209e-07</td>\n",
              "      <td>0.000002</td>\n",
              "    </tr>\n",
              "  </tbody>\n",
              "</table>\n",
              "</div>"
            ],
            "text/plain": [
              "   mse_elm_sidmoid  mse_elm_tanh\n",
              "0     8.282209e-07      0.000002"
            ]
          },
          "metadata": {
            "tags": []
          },
          "execution_count": 11
        }
      ]
    },
    {
      "cell_type": "code",
      "metadata": {
        "id": "jR_4Y2sNbN1P",
        "outputId": "1984526a-5e49-44bb-c4a1-23f809e26a54",
        "colab": {
          "base_uri": "https://localhost:8080/",
          "height": 94
        }
      },
      "source": [
        "# Find ACC means\n",
        "acc_elm_sigmoid_mean = np.mean(acc_elm_sigmoid_temp, axis=0)\n",
        "acc_elm_tanh_mean = np.mean(acc_elm_tanh_temp, axis=0)\n",
        "\n",
        "acc_elm = pd.DataFrame(np.array([\n",
        "                                  [acc_elm_sigmoid_mean[0], acc_elm_tanh_mean[0]]\n",
        "                                ]),\n",
        "                          columns= ['acc_elm_sidmoid', 'acc_elm_tanh']\n",
        "                          )\n",
        "\n",
        "print('Accuracy of ELM')\n",
        "acc_elm"
      ],
      "execution_count": null,
      "outputs": [
        {
          "output_type": "stream",
          "text": [
            "Accuracy of ELM\n"
          ],
          "name": "stdout"
        },
        {
          "output_type": "execute_result",
          "data": {
            "text/html": [
              "<div>\n",
              "<style scoped>\n",
              "    .dataframe tbody tr th:only-of-type {\n",
              "        vertical-align: middle;\n",
              "    }\n",
              "\n",
              "    .dataframe tbody tr th {\n",
              "        vertical-align: top;\n",
              "    }\n",
              "\n",
              "    .dataframe thead th {\n",
              "        text-align: right;\n",
              "    }\n",
              "</style>\n",
              "<table border=\"1\" class=\"dataframe\">\n",
              "  <thead>\n",
              "    <tr style=\"text-align: right;\">\n",
              "      <th></th>\n",
              "      <th>acc_elm_sidmoid</th>\n",
              "      <th>acc_elm_tanh</th>\n",
              "    </tr>\n",
              "  </thead>\n",
              "  <tbody>\n",
              "    <tr>\n",
              "      <th>0</th>\n",
              "      <td>0.967333</td>\n",
              "      <td>0.964444</td>\n",
              "    </tr>\n",
              "  </tbody>\n",
              "</table>\n",
              "</div>"
            ],
            "text/plain": [
              "   acc_elm_sidmoid  acc_elm_tanh\n",
              "0         0.967333      0.964444"
            ]
          },
          "metadata": {
            "tags": []
          },
          "execution_count": 12
        }
      ]
    },
    {
      "cell_type": "code",
      "metadata": {
        "id": "EHd56kyGoOOc",
        "outputId": "715ad3b5-58ff-46e3-d9de-287754aba997",
        "colab": {
          "base_uri": "https://localhost:8080/",
          "height": 170
        }
      },
      "source": [
        "# ข้อเสนอ: ควรทดสอบแบบ cross validation เพื่อทดสอบความอ่อนไหวต่อข้อมูลของตัวแบบ\n",
        "# แต่ในปัญหานี้มุ่งนี้ปัญหาลู่เข้าคำตอบ จึงวิเคราะห์ MSE และ Accuracy\n",
        "acc_bp_ann = pd.DataFrame(np.array([\n",
        "                                    [acc_sigmoid1_mean[max_iter-1], acc_tanh1_mean[max_iter-1]], \n",
        "                                    [acc_sigmoid01_mean[max_iter-1], acc_tanh01_mean[max_iter-1]], \n",
        "                                    [acc_sigmoid001_mean[max_iter-1], acc_tanh001_mean[max_iter-1]]\n",
        "                                    ]), \n",
        "                          columns=['acc_sig_sig', 'acc_tanh_sig'],\n",
        "                          index=['0.1', '0.01', '0.001']\n",
        "                          )\n",
        "print('Final ACC')\n",
        "print('Max Iteration: {}' .format(max_iter))\n",
        "acc_bp_ann"
      ],
      "execution_count": null,
      "outputs": [
        {
          "output_type": "stream",
          "text": [
            "Final ACC\n",
            "Max Iteration: 500\n"
          ],
          "name": "stdout"
        },
        {
          "output_type": "execute_result",
          "data": {
            "text/html": [
              "<div>\n",
              "<style scoped>\n",
              "    .dataframe tbody tr th:only-of-type {\n",
              "        vertical-align: middle;\n",
              "    }\n",
              "\n",
              "    .dataframe tbody tr th {\n",
              "        vertical-align: top;\n",
              "    }\n",
              "\n",
              "    .dataframe thead th {\n",
              "        text-align: right;\n",
              "    }\n",
              "</style>\n",
              "<table border=\"1\" class=\"dataframe\">\n",
              "  <thead>\n",
              "    <tr style=\"text-align: right;\">\n",
              "      <th></th>\n",
              "      <th>acc_sig_sig</th>\n",
              "      <th>acc_tanh_sig</th>\n",
              "    </tr>\n",
              "  </thead>\n",
              "  <tbody>\n",
              "    <tr>\n",
              "      <th>0.1</th>\n",
              "      <td>0.981333</td>\n",
              "      <td>0.980000</td>\n",
              "    </tr>\n",
              "    <tr>\n",
              "      <th>0.01</th>\n",
              "      <td>0.941333</td>\n",
              "      <td>0.979333</td>\n",
              "    </tr>\n",
              "    <tr>\n",
              "      <th>0.001</th>\n",
              "      <td>0.567333</td>\n",
              "      <td>0.786222</td>\n",
              "    </tr>\n",
              "  </tbody>\n",
              "</table>\n",
              "</div>"
            ],
            "text/plain": [
              "       acc_sig_sig  acc_tanh_sig\n",
              "0.1       0.981333      0.980000\n",
              "0.01      0.941333      0.979333\n",
              "0.001     0.567333      0.786222"
            ]
          },
          "metadata": {
            "tags": []
          },
          "execution_count": 13
        }
      ]
    },
    {
      "cell_type": "code",
      "metadata": {
        "id": "MiFO5SENTfmB",
        "outputId": "6d64dda8-280a-478a-b2de-854d979c1594",
        "colab": {
          "base_uri": "https://localhost:8080/",
          "height": 170
        }
      },
      "source": [
        "# ข้อเสนอ: ควรทดสอบแบบ cross validation เพื่อทดสอบความอ่อนไหวต่อข้อมูลของตัวแบบ\n",
        "# แต่ในปัญหานี้มุ่งนี้ปัญหาลู่เข้าคำตอบ จึงวิเคราะห์ MSE และ Accuracy\n",
        "mse_bp_ann = pd.DataFrame(np.array([\n",
        "                                    [mse_sigmoid1_mean[max_iter-1], mse_tanh1_mean[max_iter-1]], \n",
        "                                    [mse_sigmoid01_mean[max_iter-1], mse_tanh01_mean[max_iter-1]], \n",
        "                                    [mse_sigmoid001_mean[max_iter-1], mse_tanh001_mean[max_iter-1]]\n",
        "                                    ]), \n",
        "                          columns=['mse_sig_sig', 'mse_tanh_sig'],\n",
        "                          index=['0.1', '0.01', '0.001']\n",
        "                          )\n",
        "print('Final MSE')\n",
        "print('Max Iteration: {}' .format(max_iter))\n",
        "mse_bp_ann"
      ],
      "execution_count": null,
      "outputs": [
        {
          "output_type": "stream",
          "text": [
            "Final MSE\n",
            "Max Iteration: 500\n"
          ],
          "name": "stdout"
        },
        {
          "output_type": "execute_result",
          "data": {
            "text/html": [
              "<div>\n",
              "<style scoped>\n",
              "    .dataframe tbody tr th:only-of-type {\n",
              "        vertical-align: middle;\n",
              "    }\n",
              "\n",
              "    .dataframe tbody tr th {\n",
              "        vertical-align: top;\n",
              "    }\n",
              "\n",
              "    .dataframe thead th {\n",
              "        text-align: right;\n",
              "    }\n",
              "</style>\n",
              "<table border=\"1\" class=\"dataframe\">\n",
              "  <thead>\n",
              "    <tr style=\"text-align: right;\">\n",
              "      <th></th>\n",
              "      <th>mse_sig_sig</th>\n",
              "      <th>mse_tanh_sig</th>\n",
              "    </tr>\n",
              "  </thead>\n",
              "  <tbody>\n",
              "    <tr>\n",
              "      <th>0.1</th>\n",
              "      <td>0.000449</td>\n",
              "      <td>0.000103</td>\n",
              "    </tr>\n",
              "    <tr>\n",
              "      <th>0.01</th>\n",
              "      <td>0.033898</td>\n",
              "      <td>0.001855</td>\n",
              "    </tr>\n",
              "    <tr>\n",
              "      <th>0.001</th>\n",
              "      <td>0.031977</td>\n",
              "      <td>0.013266</td>\n",
              "    </tr>\n",
              "  </tbody>\n",
              "</table>\n",
              "</div>"
            ],
            "text/plain": [
              "       mse_sig_sig  mse_tanh_sig\n",
              "0.1       0.000449      0.000103\n",
              "0.01      0.033898      0.001855\n",
              "0.001     0.031977      0.013266"
            ]
          },
          "metadata": {
            "tags": []
          },
          "execution_count": 14
        }
      ]
    }
  ]
}